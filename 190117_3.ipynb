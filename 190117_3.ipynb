{
  "nbformat": 4,
  "nbformat_minor": 0,
  "metadata": {
    "colab": {
      "name": "190117_3.ipynb",
      "provenance": []
    },
    "kernelspec": {
      "name": "python3",
      "display_name": "Python 3"
    },
    "language_info": {
      "name": "python"
    }
  },
  "cells": [
    {
      "cell_type": "markdown",
      "metadata": {
        "id": "-J8PX4QFS8GR"
      },
      "source": [
        "# **Q1**"
      ]
    },
    {
      "cell_type": "code",
      "metadata": {
        "id": "7RHJCuJOS7pD"
      },
      "source": [
        "import numpy as np\n",
        "import pandas as pd\n",
        "import matplotlib.pyplot as plt"
      ],
      "execution_count": null,
      "outputs": []
    },
    {
      "cell_type": "code",
      "metadata": {
        "colab": {
          "base_uri": "https://localhost:8080/"
        },
        "id": "r6eHksxlJWm4",
        "outputId": "128ee31f-a801-48a2-aeaf-3a38122b637c"
      },
      "source": [
        "URL_='https://archive.ics.uci.edu/ml/machine-learning-databases/00267/data_banknote_authentication.txt'\n",
        "df = pd.read_csv(URL_, header = None)\n",
        "df = np.asmatrix(df, dtype = 'float64')\n",
        "df"
      ],
      "execution_count": null,
      "outputs": [
        {
          "output_type": "execute_result",
          "data": {
            "text/plain": [
              "matrix([[  3.6216 ,   8.6661 ,  -2.8073 ,  -0.44699,   0.     ],\n",
              "        [  4.5459 ,   8.1674 ,  -2.4586 ,  -1.4621 ,   0.     ],\n",
              "        [  3.866  ,  -2.6383 ,   1.9242 ,   0.10645,   0.     ],\n",
              "        ...,\n",
              "        [ -3.7503 , -13.4586 ,  17.5932 ,  -2.7771 ,   1.     ],\n",
              "        [ -3.5637 ,  -8.3827 ,  12.393  ,  -1.2823 ,   1.     ],\n",
              "        [ -2.5419 ,  -0.65804,   2.6842 ,   1.1952 ,   1.     ]])"
            ]
          },
          "metadata": {},
          "execution_count": 3
        }
      ]
    },
    {
      "cell_type": "code",
      "metadata": {
        "colab": {
          "base_uri": "https://localhost:8080/"
        },
        "id": "Csni2bfEJ3fm",
        "outputId": "a30625dd-2c89-4ba6-9138-4356a706899e"
      },
      "source": [
        "x1=df[:, :-1]\n",
        "x1"
      ],
      "execution_count": null,
      "outputs": [
        {
          "output_type": "execute_result",
          "data": {
            "text/plain": [
              "matrix([[  3.6216 ,   8.6661 ,  -2.8073 ,  -0.44699],\n",
              "        [  4.5459 ,   8.1674 ,  -2.4586 ,  -1.4621 ],\n",
              "        [  3.866  ,  -2.6383 ,   1.9242 ,   0.10645],\n",
              "        ...,\n",
              "        [ -3.7503 , -13.4586 ,  17.5932 ,  -2.7771 ],\n",
              "        [ -3.5637 ,  -8.3827 ,  12.393  ,  -1.2823 ],\n",
              "        [ -2.5419 ,  -0.65804,   2.6842 ,   1.1952 ]])"
            ]
          },
          "metadata": {},
          "execution_count": 4
        }
      ]
    },
    {
      "cell_type": "code",
      "metadata": {
        "colab": {
          "base_uri": "https://localhost:8080/"
        },
        "id": "jUbeFpveJ3Q5",
        "outputId": "5458d8a5-6620-464b-8fbf-c00dd07d7253"
      },
      "source": [
        "y1=df[:, -1]\n",
        "y1"
      ],
      "execution_count": null,
      "outputs": [
        {
          "output_type": "execute_result",
          "data": {
            "text/plain": [
              "matrix([[0.],\n",
              "        [0.],\n",
              "        [0.],\n",
              "        ...,\n",
              "        [1.],\n",
              "        [1.],\n",
              "        [1.]])"
            ]
          },
          "metadata": {},
          "execution_count": 5
        }
      ]
    },
    {
      "cell_type": "code",
      "metadata": {
        "id": "Tn6mNgPFJmxh"
      },
      "source": [
        "def perceptron(df, num_iter):\n",
        "  features = df[:, :-1]   #definition above\n",
        "  labels = df[:, -1]   #definition above\n",
        "\n",
        "  # set weights to zero\n",
        "  w = np.zeros(shape=(1, features.shape[1]+1))\n",
        "  t_ = [] \n",
        "  for _ in range(num_iter):\n",
        "    t = 0\n",
        "    for x, label in zip(features, labels):\n",
        "      x = np.insert(x,0,1)\n",
        "      y = np.dot(w, x.transpose())\n",
        "      if(y>0):\n",
        "        target = 1.0\n",
        "      else:\n",
        "        target = 0.0\n",
        "            \n",
        "      delta = (label.item(0,0) - target)\n",
        "            \n",
        "      if(delta): # misclassified\n",
        "        w += (delta * x)\n",
        "        t += 1\n",
        "        \n",
        "    t_.append(t)\n",
        "  return (w, t_)\n",
        "             \n",
        "num_iter = 10\n",
        "w, t_ = perceptron(df, num_iter)"
      ],
      "execution_count": null,
      "outputs": []
    },
    {
      "cell_type": "code",
      "metadata": {
        "id": "0q2jHzj9JxK4",
        "colab": {
          "base_uri": "https://localhost:8080/",
          "height": 279
        },
        "outputId": "15a7cda3-c3aa-4a76-89b3-2312685a74ff"
      },
      "source": [
        "epochs = np.arange(1, num_iter+1)\n",
        "plt.plot(epochs, t_)\n",
        "plt.xlabel('iterations')\n",
        "plt.ylabel('misclassified')\n",
        "plt.show()"
      ],
      "execution_count": null,
      "outputs": [
        {
          "output_type": "display_data",
          "data": {
            "image/png": "[encoded data removed]",
            "text/plain": [
              "<Figure size 432x288 with 1 Axes>"
            ]
          },
          "metadata": {
            "needs_background": "light"
          }
        }
      ]
    },
    {
      "cell_type": "code",
      "metadata": {
        "id": "rPi-WX0FY5Uy"
      },
      "source": [
        "def predict(x1,w):\n",
        "  pred = []\n",
        "  for i in range(x1.shape[0]):\n",
        "    if(np.dot(w,x1[i,:])>0):\n",
        "      pred.append(1)\n",
        "    else:\n",
        "      pred.append(0)\n",
        "  return pred;"
      ],
      "execution_count": null,
      "outputs": []
    },
    {
      "cell_type": "code",
      "metadata": {
        "colab": {
          "base_uri": "https://localhost:8080/"
        },
        "id": "ZpKFQvWqTppC",
        "outputId": "eb31610c-7f75-43e1-cc93-f81ba14fd6ac"
      },
      "source": [
        "n = x1.shape[0]\n",
        "idx = np.arange(0,n,dtype=np.int64)\n",
        "np.random.shuffle(idx)\n",
        "idx"
      ],
      "execution_count": null,
      "outputs": [
        {
          "output_type": "execute_result",
          "data": {
            "text/plain": [
              "array([346, 276, 813, ..., 613, 162, 866])"
            ]
          },
          "metadata": {},
          "execution_count": 9
        }
      ]
    },
    {
      "cell_type": "code",
      "metadata": {
        "id": "_boy6Z7UXFqy"
      },
      "source": [
        "train_idx = idx[:round(0.8*n)]\n",
        "test_idx = idx[round(0.8*n):]\n",
        "train_x = x1[train_idx,:]\n",
        "train_y = y1[train_idx]\n",
        "test_x = x1[test_idx,:]\n",
        "test_y = y1[test_idx]"
      ],
      "execution_count": null,
      "outputs": []
    },
    {
      "cell_type": "code",
      "metadata": {
        "id": "IBBN8oo6X5PJ",
        "outputId": "8646a6bb-a8f6-4011-97ae-ef63580ec774",
        "colab": {
          "base_uri": "https://localhost:8080/",
          "height": 380
        }
      },
      "source": [
        "acc = []\n",
        "for i in range(5):\n",
        "    n1 = train_x.shape[0]\n",
        "    idx1 = np.arange(0,n1,dtype=np.int64)\n",
        "    np.random.shuffle(idx1)\n",
        "    train_idx1 = idx1[:round(0.8*n1)]\n",
        "    val_idx1 = idx1[round(0.8*n1):]\n",
        "    train_x1 = train_x[train_idx1,:]\n",
        "    train_y1 = train_y[train_idx1]\n",
        "    val_x1 = train_x[val_idx1,:]\n",
        "    val_y1 = train_y[val_idx1]\n",
        "    acc1 = (predict(val_x1,w) == val_y1).mean()\n",
        "    acc.append(acc1)\n",
        "\n",
        "acc_final = sum(acc)/5"
      ],
      "execution_count": null,
      "outputs": [
        {
          "output_type": "error",
          "ename": "ValueError",
          "evalue": "ignored",
          "traceback": [
            "\u001b[0;31m---------------------------------------------------------------------------\u001b[0m",
            "\u001b[0;31mValueError\u001b[0m                                Traceback (most recent call last)",
            "\u001b[0;32m<ipython-input-11-173b42578cec>\u001b[0m in \u001b[0;36m<module>\u001b[0;34m()\u001b[0m\n\u001b[1;32m     10\u001b[0m     \u001b[0mval_x1\u001b[0m \u001b[0;34m=\u001b[0m \u001b[0mtrain_x\u001b[0m\u001b[0;34m[\u001b[0m\u001b[0mval_idx1\u001b[0m\u001b[0;34m,\u001b[0m\u001b[0;34m:\u001b[0m\u001b[0;34m]\u001b[0m\u001b[0;34m\u001b[0m\u001b[0;34m\u001b[0m\u001b[0m\n\u001b[1;32m     11\u001b[0m     \u001b[0mval_y1\u001b[0m \u001b[0;34m=\u001b[0m \u001b[0mtrain_y\u001b[0m\u001b[0;34m[\u001b[0m\u001b[0mval_idx1\u001b[0m\u001b[0;34m]\u001b[0m\u001b[0;34m\u001b[0m\u001b[0;34m\u001b[0m\u001b[0m\n\u001b[0;32m---> 12\u001b[0;31m     \u001b[0macc1\u001b[0m \u001b[0;34m=\u001b[0m \u001b[0;34m(\u001b[0m\u001b[0mpredict\u001b[0m\u001b[0;34m(\u001b[0m\u001b[0mval_x1\u001b[0m\u001b[0;34m,\u001b[0m\u001b[0mw\u001b[0m\u001b[0;34m)\u001b[0m \u001b[0;34m==\u001b[0m \u001b[0mval_y1\u001b[0m\u001b[0;34m)\u001b[0m\u001b[0;34m.\u001b[0m\u001b[0mmean\u001b[0m\u001b[0;34m(\u001b[0m\u001b[0;34m)\u001b[0m\u001b[0;34m\u001b[0m\u001b[0;34m\u001b[0m\u001b[0m\n\u001b[0m\u001b[1;32m     13\u001b[0m     \u001b[0macc\u001b[0m\u001b[0;34m.\u001b[0m\u001b[0mappend\u001b[0m\u001b[0;34m(\u001b[0m\u001b[0macc1\u001b[0m\u001b[0;34m)\u001b[0m\u001b[0;34m\u001b[0m\u001b[0;34m\u001b[0m\u001b[0m\n\u001b[1;32m     14\u001b[0m \u001b[0;34m\u001b[0m\u001b[0m\n",
            "\u001b[0;32m<ipython-input-8-cea52086e7c8>\u001b[0m in \u001b[0;36mpredict\u001b[0;34m(x1, w)\u001b[0m\n\u001b[1;32m      2\u001b[0m   \u001b[0mpred\u001b[0m \u001b[0;34m=\u001b[0m \u001b[0;34m[\u001b[0m\u001b[0;34m]\u001b[0m\u001b[0;34m\u001b[0m\u001b[0;34m\u001b[0m\u001b[0m\n\u001b[1;32m      3\u001b[0m   \u001b[0;32mfor\u001b[0m \u001b[0mi\u001b[0m \u001b[0;32min\u001b[0m \u001b[0mrange\u001b[0m\u001b[0;34m(\u001b[0m\u001b[0mx1\u001b[0m\u001b[0;34m.\u001b[0m\u001b[0mshape\u001b[0m\u001b[0;34m[\u001b[0m\u001b[0;36m0\u001b[0m\u001b[0;34m]\u001b[0m\u001b[0;34m)\u001b[0m\u001b[0;34m:\u001b[0m\u001b[0;34m\u001b[0m\u001b[0;34m\u001b[0m\u001b[0m\n\u001b[0;32m----> 4\u001b[0;31m     \u001b[0;32mif\u001b[0m\u001b[0;34m(\u001b[0m\u001b[0mnp\u001b[0m\u001b[0;34m.\u001b[0m\u001b[0mdot\u001b[0m\u001b[0;34m(\u001b[0m\u001b[0mw\u001b[0m\u001b[0;34m,\u001b[0m\u001b[0mx1\u001b[0m\u001b[0;34m[\u001b[0m\u001b[0mi\u001b[0m\u001b[0;34m,\u001b[0m\u001b[0;34m:\u001b[0m\u001b[0;34m]\u001b[0m\u001b[0;34m)\u001b[0m\u001b[0;34m>\u001b[0m\u001b[0;36m0\u001b[0m\u001b[0;34m)\u001b[0m\u001b[0;34m:\u001b[0m\u001b[0;34m\u001b[0m\u001b[0;34m\u001b[0m\u001b[0m\n\u001b[0m\u001b[1;32m      5\u001b[0m       \u001b[0mpred\u001b[0m\u001b[0;34m.\u001b[0m\u001b[0mappend\u001b[0m\u001b[0;34m(\u001b[0m\u001b[0;36m1\u001b[0m\u001b[0;34m)\u001b[0m\u001b[0;34m\u001b[0m\u001b[0;34m\u001b[0m\u001b[0m\n\u001b[1;32m      6\u001b[0m     \u001b[0;32melse\u001b[0m\u001b[0;34m:\u001b[0m\u001b[0;34m\u001b[0m\u001b[0;34m\u001b[0m\u001b[0m\n",
            "\u001b[0;32m<__array_function__ internals>\u001b[0m in \u001b[0;36mdot\u001b[0;34m(*args, **kwargs)\u001b[0m\n",
            "\u001b[0;31mValueError\u001b[0m: shapes (1,5) and (1,4) not aligned: 5 (dim 1) != 1 (dim 0)"
          ]
        }
      ]
    },
    {
      "cell_type": "markdown",
      "metadata": {
        "id": "fZq4pqHoS1Nb"
      },
      "source": [
        "# **Q2**"
      ]
    },
    {
      "cell_type": "code",
      "metadata": {
        "id": "eTSRwZx9Qh3t",
        "colab": {
          "base_uri": "https://localhost:8080/"
        },
        "outputId": "1e26473f-b150-4fb9-a06e-f75f61b8a7b9"
      },
      "source": [
        "#np.random.seed(0)\n",
        "data = 5 * np.random.randn(50) + 10\n",
        "data"
      ],
      "execution_count": null,
      "outputs": [
        {
          "output_type": "execute_result",
          "data": {
            "text/plain": [
              "array([12.06455956, 14.19909053,  3.44950096, -0.9189577 ,  9.78938247,\n",
              "       12.16377248,  4.96877693, 10.55372168,  8.6193227 , 12.7449212 ,\n",
              "       10.84912001,  1.47864955,  9.44836871, 21.76543066, 16.93157307,\n",
              "       14.86800335,  4.84195903, 17.25476044, 12.7381999 , 11.81268658,\n",
              "       12.98227831, 11.25862838,  2.90061396, 11.19605252,  1.32656774,\n",
              "       10.1015925 , 11.28990143,  9.25010433, 15.73006887, 14.39878098,\n",
              "        5.88810302, 10.23624727, 13.363811  , 14.22945544,  3.34269243,\n",
              "        9.07145321, 24.70051952,  5.56728154, 15.43772602, -1.95823246,\n",
              "       18.8665221 , 12.52650087,  9.73232408, 20.79703891,  8.21793286,\n",
              "       12.73378457,  9.20594056,  7.43902639, 12.17498895, 18.87457151])"
            ]
          },
          "metadata": {},
          "execution_count": 12
        }
      ]
    },
    {
      "cell_type": "code",
      "metadata": {
        "id": "Gk4QpExnQwzd"
      },
      "source": [
        "def normal(x, mean, sdev):\n",
        "    return np.exp(-(x-mean)*(x-mean)/(2*sdev*sdev))/(np.sqrt(2*np.pi)*sdev)\n",
        "\n",
        "def log_normal(x, mean, sdev):\n",
        "    return -(x-mean)*(x-mean)/(2*sdev*sdev) - np.log(np.sqrt(2*np.pi)*sdev)"
      ],
      "execution_count": null,
      "outputs": []
    },
    {
      "cell_type": "code",
      "metadata": {
        "id": "UPjhpIe8Qm28"
      },
      "source": [
        "class Distribution:\n",
        "\n",
        "    def __init__(self, data, sdev):\n",
        "        self.data = data\n",
        "        self.n = data.shape[0]\n",
        "        self.likelihood_sdev = sdev\n",
        "        self.prior_mean = 25.0\n",
        "        self.prior_sdev = 5.0\n",
        "\n",
        "        prior_var = self.prior_sdev * self.prior_sdev\n",
        "        likelihood_var = self.likelihood_sdev * self.likelihood_sdev\n",
        "        posterior_var = prior_var * likelihood_var / (likelihood_var + self.n * prior_var)\n",
        "        \n",
        "        self.posterior_sdev = np.sqrt(posterior_var)\n",
        "        self.posterior_mean = (self.prior_mean*likelihood_var + prior_var*self.data.sum()) / (likelihood_var + self.n * prior_var)\n",
        "\n",
        "    def prior(self, theta):\n",
        "        return normal(theta, self.prior_mean, self.prior_sdev)\n",
        "\n",
        "    def log_prior(self, theta):\n",
        "        return log_normal(theta,self.prior_mean,self.prior_sdev)\n",
        "\n",
        "    def likelihood(self, theta):\n",
        "        l = 1.0\n",
        "        n = data.shape[0]\n",
        "        for i in range(n):\n",
        "            l *= normal(data[i], theta, self.likelihood_sdev)\n",
        "        return l\n",
        "\n",
        "    def log_likelihood(self, theta):\n",
        "        ll = 1.0\n",
        "        n = data.shape[0]\n",
        "        for i in range(n):\n",
        "            ll += log_normal(data[i], theta, self.likelihood_sdev)\n",
        "        return ll\n",
        "\n",
        "    def posterior(self, theta):\n",
        "        return normal(theta, self.posterior_mean, self.posterior_sdev)"
      ],
      "execution_count": null,
      "outputs": []
    },
    {
      "cell_type": "code",
      "metadata": {
        "id": "RDCeqnvcRDWr"
      },
      "source": [
        "a = Distribution(data, 25)\n",
        "\n",
        "plotx = np.linspace(-20, 50, 1000) \n",
        "ploty1 = [a.prior(x) for x in plotx]\n",
        "ploty2 = [a.log_likelihood(x) for x in plotx]\n",
        "ploty3 = [a.posterior(x) for x in plotx]\n",
        "\n",
        "plt.title(\"Prior\")\n",
        "plt.xlabel(\"theta\")\n",
        "plt.ylabel(\"p(theta)\")\n",
        "plt.plot(plotx,[a.prior(x) for x in plotx])\n",
        "plt.show()\n",
        "\n",
        "plt.xlabel(\"theta\")\n",
        "plt.ylabel(\"log p(y|theta)\")\n",
        "plt.title(\"Likelihood\")\n",
        "plt.plot(plotx, [a.log_likelihood(x) for x in plotx])\n",
        "plt.show()\n",
        "\n",
        "plt.xlabel(\"theta\")\n",
        "plt.ylabel(\"p(theta|y)\")\n",
        "plt.title(\"Posterior\")\n",
        "plt.plot(plotx, [a.posterior(x) for x in plotx])\n",
        "plt.show()"
      ],
      "execution_count": null,
      "outputs": []
    },
    {
      "cell_type": "code",
      "metadata": {
        "id": "gtZIY0F_U6Dx"
      },
      "source": [
        "def metropolis(pi, dims, n_samples, lr=0.1, var=1):\n",
        "    theta_ = np.random.randn(dims)*var\n",
        "    samples = []\n",
        "    while len(samples) < n_samples:\n",
        "        theta = theta_ + np.random.randn(dims)*var\n",
        "        ratio = pi(theta)/pi(theta_)\n",
        "        if np.random.rand(1) < ratio:\n",
        "            sample = theta\n",
        "            theta_ = theta\n",
        "            samples.append(sample)\n",
        "        else:\n",
        "            sample = theta_\n",
        "            samples.append(sample)\n",
        "    samples = np.array(samples)\n",
        "    return samples[int(samples*lr):,:]"
      ],
      "execution_count": null,
      "outputs": []
    }
  ]
}