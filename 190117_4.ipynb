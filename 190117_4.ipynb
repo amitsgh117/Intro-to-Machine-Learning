{
  "nbformat": 4,
  "nbformat_minor": 0,
  "metadata": {
    "kernelspec": {
      "display_name": "Python 3",
      "language": "python",
      "name": "python3"
    },
    "language_info": {
      "codemirror_mode": {
        "name": "ipython",
        "version": 3
      },
      "file_extension": ".py",
      "mimetype": "text/x-python",
      "name": "python",
      "nbconvert_exporter": "python",
      "pygments_lexer": "ipython3",
      "version": "3.7.9"
    },
    "colab": {
      "name": "190117_assignment-4.ipynb",
      "provenance": [],
      "collapsed_sections": []
    }
  },
  "cells": [
    {
      "cell_type": "markdown",
      "metadata": {
        "id": "o3pCCR91SMvW"
      },
      "source": [
        "Use any additional libraries you want, but if you don't explicitly code stuff that I have explicitly asked you to code, you will not get marks."
      ]
    },
    {
      "cell_type": "markdown",
      "metadata": {
        "id": "ZmcfzfwcSMva"
      },
      "source": [
        "### Q1. Kernel k-means\n",
        "\n",
        "Let's try and end our course on a happy note. The smiley dataset you see below is made up of many clusters of points. "
      ]
    },
    {
      "cell_type": "code",
      "metadata": {
        "id": "vKC3c9vySMvd"
      },
      "source": [
        "import numpy as np\n",
        "import numpy.linalg as lin\n",
        "import numpy.random as rnd\n",
        "from matplotlib import pyplot as plt\n",
        "\n",
        "#Edit\n",
        "import pandas as pd\n",
        "import sys\n",
        "\n",
        "\n",
        "def getFigure( sizex = 7, sizey = 7 ):\n",
        "    fig = plt.figure( figsize = (sizex, sizey) )\n",
        "    return fig\n",
        "\n",
        "def plot2D( X, fig, color = 'r', marker = '+', size = 100, empty = False ):\n",
        "    plt.figure( fig.number )\n",
        "    if empty:\n",
        "        plt.scatter( X[:,0], X[:,1], s = size, facecolors = 'none', edgecolors = color, marker = marker  )\n",
        "    else:\n",
        "        plt.scatter( X[:,0], X[:,1], s = size, c = color, marker = marker )\n",
        "\n",
        "\n",
        "def genCrescentData( d, n, mu, r, flipped = False ):\n",
        "    X = np.vstack( (np.cos( np.linspace( 0, np.pi, n ) ), np.sin( np.linspace( 0, np.pi, n ) ) ) ).T\n",
        "    if flipped:\n",
        "        X[:,1] = -np.abs( X[:,1] )\n",
        "    else:\n",
        "        X[:,1] = np.abs( X[:,1] )\n",
        "    X = (X * r) + mu\n",
        "    return X\n",
        "\n",
        "def genSphericalData( d, n, mu, r ):\n",
        "    X = rnd.normal( 0, 1, (n, d) )\n",
        "    norms = lin.norm( X, axis = 1 )\n",
        "    X = X / norms[:, np.newaxis]\n",
        "    X = (X * r) + mu\n",
        "    return X"
      ],
      "execution_count": null,
      "outputs": []
    },
    {
      "cell_type": "code",
      "metadata": {
        "id": "ygZ78FdqSMvf"
      },
      "source": [
        "d = 2\n",
        "n = 200\n",
        "\n",
        "mu1 = np.array( [0,0] )\n",
        "mu2 = np.array( [0,1] )\n",
        "mu3 = np.array( [0,0] )\n",
        "mu4 = np.array( [-3,5] )\n",
        "mu5 = np.array( [3,5] )\n",
        "\n",
        "tmp1 = genCrescentData( d, n, mu1, 1 )\n",
        "tmp2 = genCrescentData( d, n, mu2, 5, flipped = True )\n",
        "tmp3 = genSphericalData( d, n, mu3, 10 )\n",
        "tmp4 = genSphericalData( d, n, mu4, 1 )\n",
        "tmp5 = genSphericalData( d, n, mu5, 1 )\n",
        "X = np.vstack( (tmp1, tmp2, tmp3, tmp4, tmp5) )"
      ],
      "execution_count": null,
      "outputs": []
    },
    {
      "cell_type": "code",
      "metadata": {
        "colab": {
          "base_uri": "https://localhost:8080/",
          "height": 483
        },
        "id": "6VjgFQWpSMvg",
        "outputId": "3af4b400-1592-4991-cd1c-ff0cf4ac15ec"
      },
      "source": [
        "fig = getFigure( 8, 8 )\n",
        "plot2D( X, fig, size = 50, color = 'b', marker = 'o' )"
      ],
      "execution_count": null,
      "outputs": [
        {
          "output_type": "display_data",
          "data": {
            "image/png": "[encoded data removed]",
            "text/plain": [
              "<Figure size 576x576 with 1 Axes>"
            ]
          },
          "metadata": {
            "needs_background": "light"
          }
        }
      ]
    },
    {
      "cell_type": "markdown",
      "metadata": {
        "id": "6BL13HD_SMvh"
      },
      "source": [
        "(a) Can you implement the k-means algorithm to cluster this dataset? Visualize your output. [10 points] \n",
        "\n",
        "(b) Implement k-means++ to initialize cluster centers usefully. [5 points]\n",
        "\n",
        "(c) What value of k gives you the best clustering? Are you happy with the quality of the clustering? [5 points]\n"
      ]
    },
    {
      "cell_type": "markdown",
      "metadata": {
        "id": "LqL8zHdXSMvh"
      },
      "source": [
        "(d) I'm going to say that we want to be able to do better than this. So I want you to kernelize your k-means algorithm with a Gaussian kernel. Visualize the clustering output of your kernel k-means algorithm [15 points]"
      ]
    },
    {
      "cell_type": "code",
      "metadata": {
        "id": "LZFJFxSNHs45"
      },
      "source": [
        "# SOLUTION 1"
      ],
      "execution_count": null,
      "outputs": []
    },
    {
      "cell_type": "code",
      "metadata": {
        "id": "XInEJB2UHt0z"
      },
      "source": [
        "# pre-processing data\n",
        "def preprocess_data(X) :\n",
        "  feat1 = []\n",
        "  feat2  = []\n",
        "  for i in range(len(X)) :\n",
        "    feat1.append(X[i][0])\n",
        "    feat2.append(X[i][1])\n",
        "  data = {'feat1' : feat1,'feat2' : feat2}\n",
        "  data = pd.DataFrame(data)\n",
        "  return data"
      ],
      "execution_count": null,
      "outputs": []
    },
    {
      "cell_type": "code",
      "metadata": {
        "id": "XCTlcGHcH6i6"
      },
      "source": [
        "def k_means_algo(k_means,k_means2,clusters,data) :    \n",
        "  while not k_means2.equals(k_means):\n",
        "    cluster_count = 0\n",
        "    for idx, k_mean in k_means.iterrows():\n",
        "      clusters[cluster_count] = (data[k_means.columns] - \n",
        "                                np.array(k_mean)).pow(2).sum(1).pow(0.5)\n",
        "      cluster_count += 1\n",
        "\n",
        "    data['MDCluster'] = clusters.idxmin(axis=1)\n",
        "    k_means2 = k_means\n",
        "    k_means = pd.DataFrame()\n",
        "    k_means_frame = data.groupby('MDCluster').agg(np.mean)\n",
        "\n",
        "    k_means[k_means_frame.columns] =  k_means_frame[k_means_frame.columns]\n",
        "  return (data,k_means)"
      ],
      "execution_count": null,
      "outputs": []
    },
    {
      "cell_type": "code",
      "metadata": {
        "id": "Upu7kuh1IOWp"
      },
      "source": [
        "# RANDOMLY INITIALIZING K AS 5\n",
        "k=5\n",
        "color=['red','green','blue','cyan','magenta','yellow','black','orange','darkgreen','olive']\n",
        "\n",
        "def plot_data(data,k_means) :\n",
        "  for i in range(k):\n",
        "    plt.scatter(x=data['feat1'],y=data['feat2'].where(data['MDCluster'] == i),c=color[i])\n",
        "    \n",
        "  plt.scatter(x=k_means['feat1'],y=k_means['feat2'],marker='.')\n",
        "  plt.show()"
      ],
      "execution_count": null,
      "outputs": []
    },
    {
      "cell_type": "code",
      "metadata": {
        "colab": {
          "base_uri": "https://localhost:8080/",
          "height": 265
        },
        "id": "VywS4TP1Ig_5",
        "outputId": "ec471100-0951-41e5-f587-7342229c577c"
      },
      "source": [
        "data = preprocess_data(X)\n",
        "centers = (data.sample(k, replace=False))\n",
        "k_means2 = pd.DataFrame()\n",
        "clusters = pd.DataFrame() \n",
        "processed_data,new_centers = k_means_algo(centers,k_means2,clusters,data)\n",
        "plot_data(processed_data,new_centers)"
      ],
      "execution_count": null,
      "outputs": [
        {
          "output_type": "display_data",
          "data": {
            "image/png": "[encoded data removed]",
            "text/plain": [
              "<Figure size 432x288 with 1 Axes>"
            ]
          },
          "metadata": {
            "needs_background": "light"
          }
        }
      ]
    },
    {
      "cell_type": "code",
      "metadata": {
        "id": "St2lDS1lJPZg"
      },
      "source": [
        "# Implementing K++ algo\n",
        "\n",
        "def distance(p1, p2):\n",
        "    return np.sum((p1 - p2)**2)\n",
        "  \n",
        "# initialization algorithm\n",
        "def kpp(data, k):\n",
        "  centroids = []\n",
        "  centroids.append(data[np.random.randint(\n",
        "    data.shape[0]), :])\n",
        "  \n",
        "  for c_id in range(k - 1):\n",
        "\n",
        "    dist = []\n",
        "    for i in range(data.shape[0]):\n",
        "      point = data[i, :]\n",
        "      d = sys.maxsize\n",
        "      for j in range(len(centroids)):\n",
        "        temp_dist = distance(point, centroids[j])\n",
        "        d = min(d, temp_dist)\n",
        "      dist.append(d)\n",
        "             \n",
        "    dist = np.array(dist)\n",
        "    next_centroid = data[np.argmax(dist), :]\n",
        "    centroids.append(next_centroid)\n",
        "    dist = []\n",
        "        \n",
        "  feat1 = []\n",
        "  feat2 = []\n",
        "  for i in range(len(centroids)) :\n",
        "    feat1.append(centroids[i][0])\n",
        "    feat2.append(centroids[i][1])\n",
        "  data = {'feat1' : feat1,'feat2' : feat2}\n",
        "  df = pd.DataFrame(data)\n",
        "  return df"
      ],
      "execution_count": null,
      "outputs": []
    },
    {
      "cell_type": "code",
      "metadata": {
        "colab": {
          "base_uri": "https://localhost:8080/",
          "height": 265
        },
        "id": "ypKpHMkpJS1o",
        "outputId": "50193b3e-4f92-4242-ca84-ed2956700621"
      },
      "source": [
        "data = preprocess_data(X)\n",
        "centers =  kpp(X, k = 5) \n",
        "k_means2 = pd.DataFrame()\n",
        "clusters = pd.DataFrame() \n",
        "processed_data,new_centers = k_means_algo(centers,k_means2,clusters,data)\n",
        "plot_data(processed_data,new_centers)"
      ],
      "execution_count": null,
      "outputs": [
        {
          "output_type": "display_data",
          "data": {
            "image/png": "[encoded data removed]",
            "text/plain": [
              "<Figure size 432x288 with 1 Axes>"
            ]
          },
          "metadata": {
            "needs_background": "light"
          }
        }
      ]
    },
    {
      "cell_type": "code",
      "metadata": {
        "id": "rL9sr1qtJ7zB"
      },
      "source": [
        "# FOR BEST K VALUE : SILHOUTTE PROCESSING\n",
        "def process_data(data) :\n",
        "  labels = data['MDCluster']\n",
        "  x = []\n",
        "  for i in range(len(data)) :\n",
        "    temp_data = [data['feat1'][i],data['feat2'][i]]\n",
        "    x.append(temp_data)\n",
        "  x = np.array(x)\n",
        "  return (x,labels)"
      ],
      "execution_count": null,
      "outputs": []
    },
    {
      "cell_type": "code",
      "metadata": {
        "id": "FOAgSxFDJ-q_"
      },
      "source": [
        "from sklearn.metrics import silhouette_score\n",
        "\n",
        "sil = []\n",
        "kmax = 10\n",
        "\n",
        "for k in range(2, kmax+1):\n",
        "  data = preprocess_data(X)\n",
        "  k_means =  kpp(X, k )\n",
        "  k_means2 = pd.DataFrame()\n",
        "  clusters = pd.DataFrame() \n",
        "  data,_ = k_means_algo(k_means,k_means2,clusters,data)\n",
        "  x,labels = process_data(data)\n",
        "  sil.append(silhouette_score(x, labels, metric = 'euclidean'))"
      ],
      "execution_count": null,
      "outputs": []
    },
    {
      "cell_type": "code",
      "metadata": {
        "colab": {
          "base_uri": "https://localhost:8080/",
          "height": 295
        },
        "id": "j8O9KYbBKDuI",
        "outputId": "1fb22e77-70c2-43d6-e9a6-6faf9e148b70"
      },
      "source": [
        "# PLOTTING\n",
        "x = [x for x in range(2,11)]\n",
        "y = np.array(sil)\n",
        "\n",
        "plt.title(\"Line graph\")\n",
        "plt.xlabel(\"X axis\")\n",
        "plt.ylabel(\"Y axis\")\n",
        "plt.plot(x, y, color =\"red\")\n",
        "plt.show()"
      ],
      "execution_count": null,
      "outputs": [
        {
          "output_type": "display_data",
          "data": {
            "image/png": "[encoded data removed]",
            "text/plain": [
              "<Figure size 432x288 with 1 Axes>"
            ]
          },
          "metadata": {
            "needs_background": "light"
          }
        }
      ]
    },
    {
      "cell_type": "code",
      "metadata": {
        "colab": {
          "base_uri": "https://localhost:8080/",
          "height": 265
        },
        "id": "A9Vv3qZ0KicQ",
        "outputId": "d2a70042-249f-4a72-cf66-b750395e4e99"
      },
      "source": [
        "# FOR BEST CLUSTERING \n",
        "k=8\n",
        "data = preprocess_data(X)\n",
        "centers =  kpp(X, k = 8)\n",
        "k_means2 = pd.DataFrame()\n",
        "clusters = pd.DataFrame() \n",
        "processed_data,new_centers = k_means_algo(centers,k_means2,clusters,data)\n",
        "plot_data(processed_data,new_centers)"
      ],
      "execution_count": null,
      "outputs": [
        {
          "output_type": "display_data",
          "data": {
            "image/png": "[encoded data removed]",
            "text/plain": [
              "<Figure size 432x288 with 1 Axes>"
            ]
          },
          "metadata": {
            "needs_background": "light"
          }
        }
      ]
    },
    {
      "cell_type": "code",
      "metadata": {
        "colab": {
          "base_uri": "https://localhost:8080/",
          "height": 70
        },
        "id": "fXROMzpQpHwL",
        "outputId": "d59008e3-a600-45e9-8f3a-7daf33c83339"
      },
      "source": [
        "'''\n",
        "Steps for Kernel k-means clustering:    \n",
        "Let  X = {a1, a2, a3, ..., an} be the set of data points and 'c' be the number of clusters.\n",
        "\n",
        "1) Randomly initialize ‘c’ cluster center. [Implementation similar to above]\n",
        "\n",
        "2) Compute the distance of each data point and the cluster center in the transformed space by \"kernelized versions\".\n",
        "\n",
        "3) Assign data point to that cluster center whose distance is minimum.\n",
        "\n",
        "4) Until data points are re-assigned repeat from step 2).\n",
        "\n",
        "'''"
      ],
      "execution_count": null,
      "outputs": [
        {
          "output_type": "execute_result",
          "data": {
            "application/vnd.google.colaboratory.intrinsic+json": {
              "type": "string"
            },
            "text/plain": [
              "\"\\nSteps for Kernel k-means clustering:    \\nLet  X = {a1, a2, a3, ..., an} be the set of data points and 'c' be the number of clusters.\\n\\n1) Randomly initialize ‘c’ cluster center.\\n\\n2) Compute the distance of each data point and the cluster center in the transformed space by kernelized versions.\\n\\n3) Assign data point to that cluster center whose distance is minimum.\\n\\n4) Until data points are re-assigned repeat from step 2).\\n\\n\""
            ]
          },
          "metadata": {},
          "execution_count": 296
        }
      ]
    },
    {
      "cell_type": "markdown",
      "metadata": {
        "id": "lldB7e3iSMvi"
      },
      "source": [
        "### Q2. Expectation-Maximization"
      ]
    },
    {
      "cell_type": "markdown",
      "metadata": {
        "id": "HR7hwnZcSMvi"
      },
      "source": [
        "We saw how to use EM to learn parameters for Gaussian mixture models last week. Specifically, for a GMM described by the set of parameters $\\{\\pi_k, \\mu_k, \\Sigma_k \\}_{k=1}^K$, we saw that the E-step boils down to figuring out the expected assignment of clusters based on a responsibility judgment proportional to $\\pi_k~N(\\mu_k, \\Sigma_k)$, given curent parameter estimates, followed by using GDA MLE updates assuming the current expected assignment in the M-step to update parameter values."
      ]
    },
    {
      "cell_type": "markdown",
      "metadata": {
        "id": "vq_B4ZgjSMvj"
      },
      "source": [
        "(a) Can you derive the E-step and M-step for an EM algorithm that would work for a Gaussian mixture model wherein the mixture weights $\\pi_k$ are known, and the covariances are restricted to be spherical, i.e. $\\Sigma_k = \\sigma^2_k I$? [20 points]"
      ]
    },
    {
      "cell_type": "markdown",
      "metadata": {
        "id": "ZMVuf5NcSMvk"
      },
      "source": [
        "(b) Implement this algorithm and show that it works on synthetic data with 3 clusters. If you are unable to derive the EM algorithm for part (a), implement the EM algorithm I showed in the class slides for the standard GMM (5 point penalty for taking this option) [15 points]. "
      ]
    },
    {
      "cell_type": "code",
      "metadata": {
        "id": "nJ3p_or7SMvk"
      },
      "source": [
        "# SOLUTION 2"
      ],
      "execution_count": null,
      "outputs": []
    },
    {
      "cell_type": "markdown",
      "metadata": {
        "id": "zb_ubgZaYKBY"
      },
      "source": [
        "# 2(a)\n",
        "The density $p(\\textbf{x})$ of a Gaussian mixture distribution:\n",
        "$$p(\\textbf{x})=\\sum^{K}_{k=1} \\pi_k \\mathcal{N}(\\textbf{x}|\\mu_k,Σ_k)$$\n",
        "for $\\textbf{x} \\in \\mathbb{R}^D$. So\n",
        "\n",
        "$$\\gamma_k(\\textbf{x}) = \\frac{\\pi_k \\mathcal{N}(\\textbf{x}|\\mu_k,Σ_k)}{\\sum^{K}_{j=1} \\pi_j \\mathcal{N}(\\textbf{x}|\\mu_j,Σ_j)}$$\n",
        "\n",
        "This expresses the posterior probability $p(k|\\textbf{x})$.\n",
        "\n",
        "The maximum likelihood estimate for the parameters of each component $k=1,\\dots,K$ is\n",
        "$$\\pi_k = \\frac{N_k}{N}$$\n",
        "$$\\mu_k = \\frac{1}{N_k} \\sum^{N}_{n=1} \\gamma_{nk} \\textbf{x}_n$$\n",
        "$$Σ_k = \\frac{1}{N_k} \\sum^{N}_{n=1} \\gamma_{nk} (\\textbf{x}_n - \\mu_k)(\\textbf{x}_n - \\mu_k)^\\textbf{T}$$\n",
        "\n",
        "where $\\gamma_{nk} = \\gamma_{k}(\\textbf{x}_n)$ for $n=1, \\dots, N$ and $N_k = \\sum^{N}_{n=1} \\gamma_{nk}$. The EM algorithm involves iterative learning process according to the above E-step and M-step.\n",
        "\n",
        "Now using the case where the covariances are restricted to be spherical i.e. $\\Sigma_k = \\sigma^2_k I$, the last equation reduces to\n",
        "$$\\sigma^2_k = \\frac{1}{DN_k} \\sum^{N}_{n=1} \\gamma_{nk} ||\\textbf{x}_n - \\mu_k||^2$$\n",
        "The representation of full covariance $\\Sigma_k$ would be quadratic in $D$.\n",
        "\n",
        "So:\n",
        "\n",
        "The new E-step would be same as the old E-step.\n",
        "\n",
        "And in the M-step the update in value of $\\pi_k$ and $\\Sigma_k$ will not take place and $\\sigma_k^2$ will change as\n",
        "$$\\mu_k^{(t)} = \\frac{1}{N_k} \\sum^{N}_{n=1} \\gamma_{nk}^{(t)} \\textbf{x}_n$$\n",
        "\n",
        "$$(\\sigma^2_k)^{(t)} = \\frac{1}{DN_k} \\sum^{N}_{n=1} \\gamma_{nk}^{(t)} ||\\textbf{x}_n - \\mu_k^{(t)}||^2$$"
      ]
    },
    {
      "cell_type": "markdown",
      "metadata": {
        "id": "TQa4aUqNuQjE"
      },
      "source": [
        "# 2(b)"
      ]
    },
    {
      "cell_type": "code",
      "metadata": {
        "id": "wuyX-dxwryyp"
      },
      "source": [
        "# implementation of the algorithm"
      ],
      "execution_count": null,
      "outputs": []
    },
    {
      "cell_type": "code",
      "metadata": {
        "id": "zEH1ArEor5ZQ"
      },
      "source": [
        "def e_step(self,X):\n",
        "  for iteration in range(self.max_iter):\n",
        "    self.r = np.zeros((len(X), self.n_componets))\n",
        "    # Calculating the r matrix\n",
        "    for n in range(len(X)):\n",
        "      for k in range(self.n_componets):\n",
        "        self.r[n][k] = self.pi[k] * self.multivariate_normal(X[n], self.mean_vector[k], self.covariance_matrixes[k])\n",
        "        self.r[n][k] /= sum([self.pi[j]*self.multivariate_normal(X[n], self.mean_vector[j], self.covariance_matrixes[j]) for j in range(self.n_componets)])\n",
        "    # Calculating the N\n",
        "    N = np.sum(self.r, axis=0)\n",
        "\n",
        "def multivariate_normal(self, X, mean_vector, covariance_matrix):\n",
        "  return (2*np.pi)**(-len(X)/2)*np.linalg.det(covariance_matrix)**(-1/2)*np.exp(-np.dot(np.dot((X-mean_vector).T, np.linalg.inv(covariance_matrix)), (X-mean_vector))/2)"
      ],
      "execution_count": null,
      "outputs": []
    },
    {
      "cell_type": "code",
      "metadata": {
        "id": "jbGKS8pMr9dn"
      },
      "source": [
        "def m_step(self,X):\n",
        "  self.mean_vector = np.zeros((self.n_componets, len(X[0])))\n",
        "  # Updating the mean vector\n",
        "  for k in range(self.n_componets):\n",
        "    for n in range(len(X)):\n",
        "      self.mean_vector[k] += self.r[n][k] * X[n]\n",
        "      self.mean_vector = [1/N[k]*self.mean_vector[k] for k in range(self.n_componets)]\n",
        "  # Initiating the list of the covariance matrixes\n",
        "  self.covariance_matrixes = [np.zeros((len(X[0]), len(X[0]))) for k in range(self.n_componets)]\n",
        "  # Updating the covariance matrices\n",
        "  for k in range(self.n_componets):\n",
        "    self.covariance_matrixes[k] = np.cov(X.T, aweights=(self.r[:, k]), ddof=0)\n",
        "  self.covariance_matrixes = [1/N[k]*self.covariance_matrixes[k] for k in range(self.n_componets)]\n",
        "  # Updating the pi list\n",
        "  self.pi = [N[k]/len(X) for k in range(self.n_componets)]"
      ],
      "execution_count": null,
      "outputs": []
    },
    {
      "cell_type": "code",
      "metadata": {
        "id": "vA1L766lsDoX"
      },
      "source": [
        "def predict(self, X):\n",
        "  probas = []\n",
        "  for n in range(len(X)):\n",
        "    probas.append([self.multivariate_normal(X[n], self.mean_vector[k], self.covariance_matrixes[k]) for k in range(self.n_componets)])\n",
        "  cluster = []\n",
        "  for proba in probas:\n",
        "    cluster.append(self.comp_names[proba.index(max(proba))])\n",
        "  return cluster"
      ],
      "execution_count": null,
      "outputs": []
    }
  ]
}